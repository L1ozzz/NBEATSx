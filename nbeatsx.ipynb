{
 "cells": [
  {
   "cell_type": "code",
   "execution_count": 1,
   "metadata": {
    "collapsed": true
   },
   "outputs": [],
   "source": [
    "import torch\n",
    "import numpy as np\n",
    "import pandas as pd\n",
    "import matplotlib.pyplot as plt\n",
    "\n",
    "from epf import EPF\n",
    "from ts_dataset import TimeSeriesDataset\n",
    "from ts_loader import TimeSeriesLoader\n",
    "from nbeats import Nbeats"
   ]
  },
  {
   "cell_type": "code",
   "execution_count": 4,
   "outputs": [
    {
     "data": {
      "text/plain": "  unique_id  season_Autumn  season_Spring  season_Summer  season_Winter\n0     Local              0              1              0              0\n1     Local              0              0              1              0\n2     Local              1              0              0              0\n3     Local              0              0              0              1",
      "text/html": "<div>\n<style scoped>\n    .dataframe tbody tr th:only-of-type {\n        vertical-align: middle;\n    }\n\n    .dataframe tbody tr th {\n        vertical-align: top;\n    }\n\n    .dataframe thead th {\n        text-align: right;\n    }\n</style>\n<table border=\"1\" class=\"dataframe\">\n  <thead>\n    <tr style=\"text-align: right;\">\n      <th></th>\n      <th>unique_id</th>\n      <th>season_Autumn</th>\n      <th>season_Spring</th>\n      <th>season_Summer</th>\n      <th>season_Winter</th>\n    </tr>\n  </thead>\n  <tbody>\n    <tr>\n      <th>0</th>\n      <td>Local</td>\n      <td>0</td>\n      <td>1</td>\n      <td>0</td>\n      <td>0</td>\n    </tr>\n    <tr>\n      <th>1</th>\n      <td>Local</td>\n      <td>0</td>\n      <td>0</td>\n      <td>1</td>\n      <td>0</td>\n    </tr>\n    <tr>\n      <th>2</th>\n      <td>Local</td>\n      <td>1</td>\n      <td>0</td>\n      <td>0</td>\n      <td>0</td>\n    </tr>\n    <tr>\n      <th>3</th>\n      <td>Local</td>\n      <td>0</td>\n      <td>0</td>\n      <td>0</td>\n      <td>1</td>\n    </tr>\n  </tbody>\n</table>\n</div>"
     },
     "execution_count": 4,
     "metadata": {},
     "output_type": "execute_result"
    }
   ],
   "source": [
    "# 加载本地数据\n",
    "Y_df, X_df, S_df = EPF.load(directory='./data')\n",
    "#Y_df.head()\n",
    "#X_df.head()\n",
    "S_df.head()"
   ],
   "metadata": {
    "collapsed": false
   }
  },
  {
   "cell_type": "code",
   "execution_count": 3,
   "outputs": [
    {
     "name": "stdout",
     "output_type": "stream",
     "text": [
      "Processing dataframes ...\n",
      "Creating ts tensor ...\n",
      "['y', 'GustDir', 'GustSpd', 'WindRun', 'Rain', 'Tmean', 'Tmax', 'Tmin', 'Tgmin', 'VapPress', 'ET10', 'Rad', 'week_day', 'day_0', 'day_1', 'day_2', 'day_3', 'day_4', 'day_5', 'day_6', 'insample_mask', 'outsample_mask']\n"
     ]
    }
   ],
   "source": [
    "# train_mask: 1 to keep, 0 to mask\n",
    "train_mask = np.ones(len(Y_df))\n",
    "train_mask[-7:] = 0 # Last week of data (168 hours)\n",
    "\n",
    "# 数据集对象。将 DataFrame 预处理为 pytorch 张量和窗口。\n",
    "ts_dataset = TimeSeriesDataset(Y_df=Y_df, X_df=X_df, S_df=S_df, ts_train_mask=train_mask)\n",
    "# 打印 t_cols 确认\n",
    "print(ts_dataset.t_cols)\n",
    "# 加载对象。采样数据集对象的窗口。\n",
    "# 有关每个参数的更多信息，请参阅 Loader 对象上的注释。\n",
    "train_loader = TimeSeriesLoader(model='nbeats',\n",
    "                                ts_dataset=ts_dataset,\n",
    "                                window_sampling_limit=8969,  # 4 years of data\n",
    "                                offset=0,\n",
    "                                input_size=7,  # Last 7 days\n",
    "                                output_size=1,  # Predict 1 day\n",
    "                                idx_to_sample_freq=1,  # Sampling frequency of 1 day\n",
    "                                batch_size=1024,\n",
    "                                is_train_loader=True,\n",
    "                                shuffle=True)\n",
    "\n",
    "# 验证加载器（注意：在此示例中，我们还对预测期进行了验证）\n",
    "val_loader = TimeSeriesLoader(model='nbeats',\n",
    "                              ts_dataset=ts_dataset,\n",
    "                              window_sampling_limit=8969,  # 4 years of data\n",
    "                              offset=0,\n",
    "                              input_size=7,  # Last 7 days\n",
    "                              output_size=1,  # Predict 1 day\n",
    "                              idx_to_sample_freq=1,  # Sampling frequency of 1 day\n",
    "                              batch_size=1024,\n",
    "                              is_train_loader=False,\n",
    "                              shuffle=False)"
   ],
   "metadata": {
    "collapsed": false
   }
  },
  {
   "cell_type": "code",
   "execution_count": 25,
   "outputs": [
    {
     "name": "stderr",
     "output_type": "stream",
     "text": [
      "D:\\Python\\lib\\site-packages\\torch\\nn\\utils\\weight_norm.py:28: UserWarning: torch.nn.utils.weight_norm is deprecated in favor of torch.nn.utils.parametrizations.weight_norm.\n",
      "  warnings.warn(\"torch.nn.utils.weight_norm is deprecated in favor of torch.nn.utils.parametrizations.weight_norm.\")\n"
     ]
    },
    {
     "name": "stdout",
     "output_type": "stream",
     "text": [
      "\n",
      "\n",
      "============================== Start fitting ==============================\n",
      "Step: 50, Time: 5.893, Insample MAE: 74.01123, Outsample MAE: 20.46597\n",
      "Step: 100, Time: 11.683, Insample MAE: 10.53750, Outsample MAE: 2.55759\n",
      "Step: 150, Time: 17.506, Insample MAE: 2.61723, Outsample MAE: 1.29057\n",
      "Step: 200, Time: 23.217, Insample MAE: 1.57515, Outsample MAE: 1.32452\n",
      "Step: 250, Time: 29.056, Insample MAE: 1.43713, Outsample MAE: 1.27398\n",
      "Step: 300, Time: 34.996, Insample MAE: 1.18433, Outsample MAE: 1.15570\n",
      "Step: 350, Time: 41.187, Insample MAE: 1.26656, Outsample MAE: 1.13009\n",
      "Step: 400, Time: 47.423, Insample MAE: 1.16836, Outsample MAE: 1.25164\n",
      "Step: 450, Time: 53.737, Insample MAE: 1.10245, Outsample MAE: 1.24333\n",
      "Step: 500, Time: 60.018, Insample MAE: 1.12775, Outsample MAE: 1.24708\n",
      "Step: 550, Time: 66.310, Insample MAE: 1.16792, Outsample MAE: 1.16764\n",
      "Step: 600, Time: 72.630, Insample MAE: 1.19659, Outsample MAE: 1.23590\n",
      "Step: 650, Time: 78.921, Insample MAE: 1.02224, Outsample MAE: 1.25244\n",
      "Step: 700, Time: 85.257, Insample MAE: 1.12118, Outsample MAE: 1.34243\n",
      "Step: 750, Time: 91.606, Insample MAE: 1.05895, Outsample MAE: 1.36022\n",
      "Step: 800, Time: 97.930, Insample MAE: 1.07983, Outsample MAE: 1.22735\n",
      "Step: 850, Time: 104.221, Insample MAE: 1.04001, Outsample MAE: 1.28546\n",
      "\n",
      "\n",
      "-------------------  Stopped training by early stopping -------------------\n",
      "Step: 850, Time: 104.242, Insample MAE: 1.26656, Outsample MAE: 1.13009\n",
      "==============================  End fitting  ==============================\n",
      "\n",
      "\n"
     ]
    }
   ],
   "source": [
    "# 包含要包含的滞后变量的字典。\n",
    "include_var_dict = {'y': [-7, -6, -5, -4, -3, -2, -1],  # Last 7 days\n",
    "                    'GustDir': [-7, -6, -5, -4, -3, -2, -1],\n",
    "                    'GustSpd': [-7, -6, -5, -4, -3, -2, -1],\n",
    "                    'WindRun': [-7, -6, -5, -4, -3, -2, -1],\n",
    "                    'Rain': [-7, -6, -5, -4, -3, -2, -1],\n",
    "                    'Tmean': [-7, -6, -5, -4, -3, -2, -1],\n",
    "                    'Tmax': [-7, -6, -5, -4, -3, -2, -1],\n",
    "                    'Tmin': [-7, -6, -5, -4, -3, -2, -1],\n",
    "                    'Tgmin': [-7, -6, -5, -4, -3, -2, -1],\n",
    "                    'VapPress': [-7, -6, -5, -4, -3, -2, -1],\n",
    "                    'ET10': [-7, -6, -5, -4, -3, -2, -1],\n",
    "                    'Rad': [-7, -6, -5, -4, -3, -2, -1],\n",
    "                    'week_day': [-1]}  # Last day of the week\n",
    "\n",
    "model = Nbeats(input_size_multiplier=7,  # Last 7 days\n",
    "               output_size=1,  # Predict 1 day\n",
    "               shared_weights=False,\n",
    "               initialization='glorot_normal',\n",
    "               activation='selu',\n",
    "               stack_types=['identity'] + ['exogenous_tcn'],\n",
    "               n_blocks=[2, 2],\n",
    "               n_layers=[2, 2],\n",
    "               n_hidden=[[512, 512], [512, 512]],\n",
    "               n_harmonics=1,  # not used with exogenous_tcn\n",
    "               n_polynomials=1,  # not used with exogenous_tcn\n",
    "               x_s_n_hidden=0,\n",
    "               exogenous_n_channels=9,\n",
    "               include_var_dict=include_var_dict,\n",
    "               t_cols=ts_dataset.t_cols,\n",
    "               batch_normalization=True,\n",
    "               dropout_prob_theta=0.2,\n",
    "               dropout_prob_exogenous=0,\n",
    "               learning_rate=0.0001,\n",
    "               lr_decay=0.5,\n",
    "               n_lr_decay_steps=3,\n",
    "               early_stopping=10,\n",
    "               weight_decay=0,\n",
    "               l1_theta=0,\n",
    "               n_iterations=10000,\n",
    "               loss='MAE',\n",
    "               loss_hypar=0.5,\n",
    "               val_loss='MAE',\n",
    "               seasonality=7,  # not used: only used with MASE loss\n",
    "               random_seed=1)\n",
    "\n",
    "model.fit(train_ts_loader=train_loader, val_ts_loader=val_loader, eval_steps=50)"
   ],
   "metadata": {
    "collapsed": false
   }
  },
  {
   "cell_type": "markdown",
   "source": [],
   "metadata": {
    "collapsed": false
   }
  },
  {
   "cell_type": "code",
   "execution_count": 26,
   "outputs": [],
   "source": [
    "y_true, y_hat, *_ = model.predict(ts_loader=val_loader, return_decomposition=False)"
   ],
   "metadata": {
    "collapsed": false
   }
  },
  {
   "cell_type": "code",
   "execution_count": 16,
   "outputs": [
    {
     "name": "stdout",
     "output_type": "stream",
     "text": [
      "Y_df['y'].values[-336:]: (336,)\n",
      "y_hat: (7, 1)\n"
     ]
    }
   ],
   "source": [
    "print(\"Y_df['y'].values[-336:]:\", Y_df['y'].values[-336:].shape)\n",
    "print(\"y_hat:\", y_hat.shape)"
   ],
   "metadata": {
    "collapsed": false
   }
  },
  {
   "cell_type": "code",
   "execution_count": 27,
   "outputs": [
    {
     "data": {
      "text/plain": "<Figure size 432x288 with 1 Axes>",
      "image/png": "[encoded data removed]"
     },
     "metadata": {
      "needs_background": "light"
     },
     "output_type": "display_data"
    }
   ],
   "source": [
    "# 设定历史数据和预测数据的长度\n",
    "history_length = 30  # 用于绘制的历史天数\n",
    "forecast_length = 7  # 预测天数\n",
    "\n",
    "# 取历史数据的最后 history_length 天\n",
    "history_y = Y_df['y'].values[-(history_length + forecast_length):-forecast_length]\n",
    "\n",
    "# 取预测时间段内的实际数据\n",
    "actual_y = Y_df['y'].values[-forecast_length:]\n",
    "\n",
    "# 将预测结果展开并取最后 forecast_length 天的值\n",
    "y_hat_flat = y_hat.flatten()\n",
    "y_hat_flat = y_hat_flat[-forecast_length:]\n",
    "\n",
    "# 确保预测结果和 x 轴长度一致\n",
    "x_values = range(history_length, history_length + forecast_length)\n",
    "\n",
    "# 绘制历史数据\n",
    "plt.plot(range(history_length), history_y, label='Historical Soil Moisture')\n",
    "\n",
    "# 绘制预测值\n",
    "plt.plot(x_values, y_hat_flat, linestyle='dashed', label='Forecast')\n",
    "\n",
    "# 绘制预测时间段内的实际数据\n",
    "plt.plot(x_values, actual_y, label='Actual Soil Moisture')\n",
    "\n",
    "# 添加分割线\n",
    "plt.axvline(history_length, color='black')\n",
    "\n",
    "# 添加图例、网格和标签\n",
    "plt.legend()\n",
    "plt.grid()\n",
    "plt.xlabel('Day')\n",
    "plt.ylabel('Soil Moisture')\n",
    "plt.show()\n"
   ],
   "metadata": {
    "collapsed": false
   }
  },
  {
   "cell_type": "code",
   "execution_count": 28,
   "outputs": [
    {
     "name": "stdout",
     "output_type": "stream",
     "text": [
      "MSE: 3.6635\n",
      "MAE: 1.1301\n",
      "MAPE: 2.31%\n"
     ]
    }
   ],
   "source": [
    "from sklearn.metrics import mean_squared_error, mean_absolute_error\n",
    "\n",
    "# 计算 MSE, MAE 和 MAPE\n",
    "mse = mean_squared_error(actual_y, y_hat_flat)\n",
    "mae = mean_absolute_error(actual_y, y_hat_flat)\n",
    "mape = np.mean(np.abs((actual_y - y_hat_flat) / actual_y)) * 100\n",
    "\n",
    "print(f'MSE: {mse:.4f}')\n",
    "print(f'MAE: {mae:.4f}')\n",
    "print(f'MAPE: {mape:.2f}%')\n"
   ],
   "metadata": {
    "collapsed": false
   }
  },
  {
   "cell_type": "code",
   "execution_count": null,
   "outputs": [],
   "source": [],
   "metadata": {
    "collapsed": false
   }
  }
 ],
 "metadata": {
  "kernelspec": {
   "display_name": "Python 3",
   "language": "python",
   "name": "python3"
  },
  "language_info": {
   "codemirror_mode": {
    "name": "ipython",
    "version": 2
   },
   "file_extension": ".py",
   "mimetype": "text/x-python",
   "name": "python",
   "nbconvert_exporter": "python",
   "pygments_lexer": "ipython2",
   "version": "2.7.6"
  }
 },
 "nbformat": 4,
 "nbformat_minor": 0
}
